{
  "nbformat": 4,
  "nbformat_minor": 0,
  "metadata": {
    "colab": {
      "provenance": [],
      "authorship_tag": "ABX9TyM3KaF6vAi1e74a4wSYXnUn",
      "include_colab_link": true
    },
    "kernelspec": {
      "name": "python3",
      "display_name": "Python 3"
    },
    "language_info": {
      "name": "python"
    }
  },
  "cells": [
    {
      "cell_type": "markdown",
      "metadata": {
        "id": "view-in-github",
        "colab_type": "text"
      },
      "source": [
        "<a href=\"https://colab.research.google.com/github/morebeautifulthandoriangray/Perceptron/blob/main/Perceptron.ipynb\" target=\"_parent\"><img src=\"https://colab.research.google.com/assets/colab-badge.svg\" alt=\"Open In Colab\"/></a>"
      ]
    },
    {
      "cell_type": "code",
      "execution_count": 5,
      "metadata": {
        "id": "eVPGnDkmsDod"
      },
      "outputs": [],
      "source": [
        "#Linear algebra and mathematical operations\n",
        "import numpy as np \n",
        "#importing and loading data\n",
        "import pandas as pd \n",
        "from sklearn.preprocessing import OneHotEncoder"
      ]
    },
    {
      "cell_type": "markdown",
      "source": [
        "Далее мы будем использовать Pandas для загрузки и перемешивания набора данных. Такое случайное перемешивание помогает сделать данные более однородными и является хорошей практикой для предотвращения переобучения в будущем."
      ],
      "metadata": {
        "id": "lZNqccxKX0k7"
      }
    },
    {
      "cell_type": "code",
      "source": [
        "iris_df = pd.read_csv(\"sample_data/iris.csv\")\n",
        "iris_df = iris_df.sample(frac=1).reset_index(drop=True) # перемешиваем"
      ],
      "metadata": {
        "id": "4AOQ3JQGXzql"
      },
      "execution_count": 6,
      "outputs": []
    },
    {
      "cell_type": "markdown",
      "source": [
        "Посмотрим наши данные:"
      ],
      "metadata": {
        "id": "tLE12F4wY4aW"
      }
    },
    {
      "cell_type": "code",
      "source": [
        "iris_df.head()"
      ],
      "metadata": {
        "colab": {
          "base_uri": "https://localhost:8080/",
          "height": 206
        },
        "id": "_oIwdKQuX0Gg",
        "outputId": "01f8cc64-557f-46dd-b3bb-de9743f5b5de"
      },
      "execution_count": null,
      "outputs": [
        {
          "output_type": "execute_result",
          "data": {
            "text/plain": [
              "   sepal.length  sepal.width  petal.length  petal.width     variety\n",
              "0           6.7          3.1           4.7          1.5  Versicolor\n",
              "1           6.0          2.2           5.0          1.5   Virginica\n",
              "2           7.6          3.0           6.6          2.1   Virginica\n",
              "3           7.7          3.0           6.1          2.3   Virginica\n",
              "4           6.6          2.9           4.6          1.3  Versicolor"
            ],
            "text/html": [
              "\n",
              "  <div id=\"df-a96c38e2-3697-404c-b0b9-9d055e4fee6e\">\n",
              "    <div class=\"colab-df-container\">\n",
              "      <div>\n",
              "<style scoped>\n",
              "    .dataframe tbody tr th:only-of-type {\n",
              "        vertical-align: middle;\n",
              "    }\n",
              "\n",
              "    .dataframe tbody tr th {\n",
              "        vertical-align: top;\n",
              "    }\n",
              "\n",
              "    .dataframe thead th {\n",
              "        text-align: right;\n",
              "    }\n",
              "</style>\n",
              "<table border=\"1\" class=\"dataframe\">\n",
              "  <thead>\n",
              "    <tr style=\"text-align: right;\">\n",
              "      <th></th>\n",
              "      <th>sepal.length</th>\n",
              "      <th>sepal.width</th>\n",
              "      <th>petal.length</th>\n",
              "      <th>petal.width</th>\n",
              "      <th>variety</th>\n",
              "    </tr>\n",
              "  </thead>\n",
              "  <tbody>\n",
              "    <tr>\n",
              "      <th>0</th>\n",
              "      <td>6.7</td>\n",
              "      <td>3.1</td>\n",
              "      <td>4.7</td>\n",
              "      <td>1.5</td>\n",
              "      <td>Versicolor</td>\n",
              "    </tr>\n",
              "    <tr>\n",
              "      <th>1</th>\n",
              "      <td>6.0</td>\n",
              "      <td>2.2</td>\n",
              "      <td>5.0</td>\n",
              "      <td>1.5</td>\n",
              "      <td>Virginica</td>\n",
              "    </tr>\n",
              "    <tr>\n",
              "      <th>2</th>\n",
              "      <td>7.6</td>\n",
              "      <td>3.0</td>\n",
              "      <td>6.6</td>\n",
              "      <td>2.1</td>\n",
              "      <td>Virginica</td>\n",
              "    </tr>\n",
              "    <tr>\n",
              "      <th>3</th>\n",
              "      <td>7.7</td>\n",
              "      <td>3.0</td>\n",
              "      <td>6.1</td>\n",
              "      <td>2.3</td>\n",
              "      <td>Virginica</td>\n",
              "    </tr>\n",
              "    <tr>\n",
              "      <th>4</th>\n",
              "      <td>6.6</td>\n",
              "      <td>2.9</td>\n",
              "      <td>4.6</td>\n",
              "      <td>1.3</td>\n",
              "      <td>Versicolor</td>\n",
              "    </tr>\n",
              "  </tbody>\n",
              "</table>\n",
              "</div>\n",
              "      <button class=\"colab-df-convert\" onclick=\"convertToInteractive('df-a96c38e2-3697-404c-b0b9-9d055e4fee6e')\"\n",
              "              title=\"Convert this dataframe to an interactive table.\"\n",
              "              style=\"display:none;\">\n",
              "        \n",
              "  <svg xmlns=\"http://www.w3.org/2000/svg\" height=\"24px\"viewBox=\"0 0 24 24\"\n",
              "       width=\"24px\">\n",
              "    <path d=\"M0 0h24v24H0V0z\" fill=\"none\"/>\n",
              "    <path d=\"M18.56 5.44l.94 2.06.94-2.06 2.06-.94-2.06-.94-.94-2.06-.94 2.06-2.06.94zm-11 1L8.5 8.5l.94-2.06 2.06-.94-2.06-.94L8.5 2.5l-.94 2.06-2.06.94zm10 10l.94 2.06.94-2.06 2.06-.94-2.06-.94-.94-2.06-.94 2.06-2.06.94z\"/><path d=\"M17.41 7.96l-1.37-1.37c-.4-.4-.92-.59-1.43-.59-.52 0-1.04.2-1.43.59L10.3 9.45l-7.72 7.72c-.78.78-.78 2.05 0 2.83L4 21.41c.39.39.9.59 1.41.59.51 0 1.02-.2 1.41-.59l7.78-7.78 2.81-2.81c.8-.78.8-2.07 0-2.86zM5.41 20L4 18.59l7.72-7.72 1.47 1.35L5.41 20z\"/>\n",
              "  </svg>\n",
              "      </button>\n",
              "      \n",
              "  <style>\n",
              "    .colab-df-container {\n",
              "      display:flex;\n",
              "      flex-wrap:wrap;\n",
              "      gap: 12px;\n",
              "    }\n",
              "\n",
              "    .colab-df-convert {\n",
              "      background-color: #E8F0FE;\n",
              "      border: none;\n",
              "      border-radius: 50%;\n",
              "      cursor: pointer;\n",
              "      display: none;\n",
              "      fill: #1967D2;\n",
              "      height: 32px;\n",
              "      padding: 0 0 0 0;\n",
              "      width: 32px;\n",
              "    }\n",
              "\n",
              "    .colab-df-convert:hover {\n",
              "      background-color: #E2EBFA;\n",
              "      box-shadow: 0px 1px 2px rgba(60, 64, 67, 0.3), 0px 1px 3px 1px rgba(60, 64, 67, 0.15);\n",
              "      fill: #174EA6;\n",
              "    }\n",
              "\n",
              "    [theme=dark] .colab-df-convert {\n",
              "      background-color: #3B4455;\n",
              "      fill: #D2E3FC;\n",
              "    }\n",
              "\n",
              "    [theme=dark] .colab-df-convert:hover {\n",
              "      background-color: #434B5C;\n",
              "      box-shadow: 0px 1px 3px 1px rgba(0, 0, 0, 0.15);\n",
              "      filter: drop-shadow(0px 1px 2px rgba(0, 0, 0, 0.3));\n",
              "      fill: #FFFFFF;\n",
              "    }\n",
              "  </style>\n",
              "\n",
              "      <script>\n",
              "        const buttonEl =\n",
              "          document.querySelector('#df-a96c38e2-3697-404c-b0b9-9d055e4fee6e button.colab-df-convert');\n",
              "        buttonEl.style.display =\n",
              "          google.colab.kernel.accessAllowed ? 'block' : 'none';\n",
              "\n",
              "        async function convertToInteractive(key) {\n",
              "          const element = document.querySelector('#df-a96c38e2-3697-404c-b0b9-9d055e4fee6e');\n",
              "          const dataTable =\n",
              "            await google.colab.kernel.invokeFunction('convertToInteractive',\n",
              "                                                     [key], {});\n",
              "          if (!dataTable) return;\n",
              "\n",
              "          const docLinkHtml = 'Like what you see? Visit the ' +\n",
              "            '<a target=\"_blank\" href=https://colab.research.google.com/notebooks/data_table.ipynb>data table notebook</a>'\n",
              "            + ' to learn more about interactive tables.';\n",
              "          element.innerHTML = '';\n",
              "          dataTable['output_type'] = 'display_data';\n",
              "          await google.colab.output.renderOutput(dataTable, element);\n",
              "          const docLink = document.createElement('div');\n",
              "          docLink.innerHTML = docLinkHtml;\n",
              "          element.appendChild(docLink);\n",
              "        }\n",
              "      </script>\n",
              "    </div>\n",
              "  </div>\n",
              "  "
            ]
          },
          "metadata": {},
          "execution_count": 4
        }
      ]
    },
    {
      "cell_type": "markdown",
      "source": [
        "Затем мы переключаемся с pandas DataFrame на массив numpy, чтобы данные можно было легко передать в нашу пользовательскую нейронную сеть."
      ],
      "metadata": {
        "id": "J_0biBsKY97N"
      }
    },
    {
      "cell_type": "code",
      "source": [
        "X = iris_df[['sepal.length', 'sepal.width', 'petal.length', 'petal.width']]\n",
        "X = np.array(X)\n",
        "X[:5]\n",
        "X[0]"
      ],
      "metadata": {
        "colab": {
          "base_uri": "https://localhost:8080/"
        },
        "id": "_CB4e6FdX0Jc",
        "outputId": "6a62893c-183e-4551-e194-335ad1e0dcf4"
      },
      "execution_count": 7,
      "outputs": [
        {
          "output_type": "execute_result",
          "data": {
            "text/plain": [
              "array([4.8, 3.4, 1.9, 0.2])"
            ]
          },
          "metadata": {},
          "execution_count": 7
        }
      ]
    },
    {
      "cell_type": "markdown",
      "source": [
        "Поскольку столбец «Variety» является категориальным, мы должны изменить его на однократное кодирование. Поскольку мы все еще находимся на этапе предварительной обработки данных, проще использовать «OneHotEncoder» из библиотеки sklearn.preprocessing."
      ],
      "metadata": {
        "id": "U2kEGgTTZWzR"
      }
    },
    {
      "cell_type": "code",
      "source": [
        "one_hot_encoder = OneHotEncoder(sparse=False)\n",
        "Y = iris_df.variety\n",
        "Y = one_hot_encoder.fit_transform(np.array(Y).reshape(-1, 1))\n",
        "Y[:]\n",
        "# Y[0]"
      ],
      "metadata": {
        "id": "8PxU5h_RX0Ms"
      },
      "execution_count": null,
      "outputs": []
    },
    {
      "cell_type": "markdown",
      "source": [
        "Пришло время разделить тест/обучение/проверку. Мы снова будем использовать sklearn для этого."
      ],
      "metadata": {
        "id": "VH3w9UbRZvfB"
      }
    },
    {
      "cell_type": "code",
      "source": [
        "from sklearn.model_selection import train_test_split\n",
        "X_train, X_test, Y_train, Y_test = train_test_split(X, Y, test_size=0.15)\n",
        "X_train, X_val, Y_train, Y_val = train_test_split(X_train, Y_train, test_size=0.1)"
      ],
      "metadata": {
        "id": "T3gxSEwwZw_g"
      },
      "execution_count": 9,
      "outputs": []
    },
    {
      "cell_type": "markdown",
      "source": [
        "X_train, Y_train: The train set\n",
        "\n",
        "\n",
        "X_val, Y_val: Validation set (optional)\n",
        "\n",
        "epochs: Number of cycles (default = 10)\n",
        "\n",
        "nodes: An integer list of number of nodes in every layer\n",
        "\n",
        "lr: learning rate α (default = 0.15)."
      ],
      "metadata": {
        "id": "DsaWLIYDaVwq"
      }
    },
    {
      "cell_type": "code",
      "source": [
        "def NeuralNetwork(X_train, Y_train, X_val=None, Y_val=None, epochs=10, nodes=[], lr=0.15):\n",
        "    hidden_layers = len(nodes) - 1\n",
        "    weights = InitializeWeight(nodes)\n",
        "\n",
        "    for epoch in range(1, epochs+1):\n",
        "        weights = Train(X_train, Y_train, lr, weights)\n",
        "\n",
        "        if(epoch % 20 == 0):\n",
        "            print(\"Epoch {}\".format(epoch))\n",
        "            print(\"Training Accuracy:{}\".format(Accuracy(X_train, Y_train, weights)))\n",
        "            if X_val.any():\n",
        "                print(\"Validation Accuracy:{}\".format(Accuracy(X_val, Y_val, weights)))\n",
        "            \n",
        "    return weights"
      ],
      "metadata": {
        "id": "9-OQCb2BZ4-e"
      },
      "execution_count": 10,
      "outputs": []
    },
    {
      "cell_type": "markdown",
      "source": [
        "Функция InitializeWeight используется для случайной инициализации весов узлов в диапазоне от -1 до 1 включительно. Для реализации мы используем numpy для генерации случайных значений:"
      ],
      "metadata": {
        "id": "pfevykrcai1p"
      }
    },
    {
      "cell_type": "code",
      "source": [
        "def InitializeWeight(nodes):\n",
        "    layers, weights = len(nodes), []\n",
        "    \n",
        "    for i in range(1, layers):\n",
        "        w = [[np.random.uniform(-1, 1) for j in range(nodes[i-1] + 1)]\n",
        "              for k in range(nodes[i])]\n",
        "        weights.append(np.matrix(w))\n",
        "    \n",
        "    return weights"
      ],
      "metadata": {
        "id": "GGKpxlyZZ5A7"
      },
      "execution_count": 11,
      "outputs": []
    },
    {
      "cell_type": "markdown",
      "source": [
        "Эти веса будут позже обновлены с использованием известного алгоритма обратного распространения ошибки. Чтобы это работало, нам нужно прямое распространение, при котором все входные данные умножаются и добавляются с соответствующими весами и смещениями."
      ],
      "metadata": {
        "id": "4uw6Lv9tasiP"
      }
    },
    {
      "cell_type": "code",
      "source": [],
      "metadata": {
        "id": "_NaGAXFRarpr"
      },
      "execution_count": null,
      "outputs": []
    },
    {
      "cell_type": "markdown",
      "source": [
        "Каждый слой получает входные данные от своего предыдущего слоя, кроме первого слоя нейронной сети.\n",
        "\n",
        "Затем входные значения умножаются на соответствующие им веса. Смещение добавляется и передается через функцию активации.\n",
        "\n",
        "Процесс повторяется на всех слоях. Результатом последнего слоя является предсказание нашей нейронной сети."
      ],
      "metadata": {
        "id": "1Cae5ozTay_6"
      }
    },
    {
      "cell_type": "code",
      "source": [
        "def ForwardPropagation(x, weights, layers):\n",
        "    activations, layer_input = [x], x\n",
        "    for j in range(layers):\n",
        "        activation = Sigmoid(np.dot(layer_input, weights[j].T))\n",
        "        activations.append(activation)\n",
        "        layer_input = np.append(1, activation)\n",
        "    \n",
        "    return activations"
      ],
      "metadata": {
        "id": "b9CtY84iZ5Da"
      },
      "execution_count": 12,
      "outputs": []
    },
    {
      "cell_type": "markdown",
      "source": [
        "Поскольку мы случайным образом инициализируем веса в начале процесса обучения, вывод после первого запуска может отличаться от фактического ответа. Алгоритм обратного распространения используется для борьбы с этим, вычисляя ошибку из последнего слоя и соответствующим образом обновляя веса в нейронной сети.\n",
        "\n"
      ],
      "metadata": {
        "id": "A7kfJU-Va6u5"
      }
    },
    {
      "cell_type": "code",
      "source": [
        "def BackPropagation(y, activations, weights, layers, lr):\n",
        "    outputFinal = activations[-1]\n",
        "    error = np.matrix(y - outputFinal) # Error after 1 cycle\n",
        "    \n",
        "    for j in range(layers, 0, -1):\n",
        "        currActivation = activations[j]\n",
        "        \n",
        "        if(j > 1):\n",
        "            # Append previous\n",
        "            prevActivation = np.append(1, activations[j-1])\n",
        "        else:\n",
        "            # First hidden layer\n",
        "            prevActivation = activations[0]\n",
        "        \n",
        "        delta = np.multiply(error, SigmoidDerivative(currActivation))\n",
        "        weights[j-1] += lr * np.multiply(delta.T, prevActivation)\n",
        "\n",
        "        wc = np.delete(weights[j-1], [0], axis=1)\n",
        "        error = np.dot(delta, wc) #current layer error\n",
        "    \n",
        "    return weights"
      ],
      "metadata": {
        "id": "xJR5LXV7Z5Ie"
      },
      "execution_count": 13,
      "outputs": []
    },
    {
      "cell_type": "markdown",
      "source": [
        "Все различные разделы нашей нейронной сети теперь построены. Демонстрационные данные сначала отправляются по сети путем переадресации. В конце слоя ошибки вычисляются и распространяются обратно для соответствующего обновления весов слоев."
      ],
      "metadata": {
        "id": "teCBVzlLbFq8"
      }
    },
    {
      "cell_type": "code",
      "source": [
        "def Train(X, Y, lr, weights):\n",
        "    layers = len(weights)\n",
        "    for i in range(len(X)):\n",
        "        x, y = X[i], Y[i]\n",
        "        x = np.matrix(np.append(1, x))\n",
        "        \n",
        "        activations = ForwardPropagation(x, weights, layers)\n",
        "        weights = BackPropagation(y, activations, weights, layers, lr)\n",
        "\n",
        "    return weights"
      ],
      "metadata": {
        "id": "7uQKlSI0Z5K1"
      },
      "execution_count": 14,
      "outputs": []
    },
    {
      "cell_type": "markdown",
      "source": [
        "Для нашей сети мы будем использовать сигмовидную функцию активации. Скалярный продукт каждого слоя проходит через функцию активации, которая определяет конечный результат этого слоя. Сигмоид имеет диапазон (0,1). Он в основном используется в моделях, где требуется прогноз вероятности (следовательно, диапазон от 0 до 1). Поскольку наша модель должна «угадывать» вид цветка, лучше всего подходит сигмоидальная функция."
      ],
      "metadata": {
        "id": "21F4eB9FbEHU"
      }
    },
    {
      "cell_type": "code",
      "source": [
        "def Sigmoid(x):\n",
        "    return 1 / (1 + np.exp(-x))\n",
        "\n",
        "def SigmoidDerivative(x):\n",
        "    return np.multiply(x, 1-x)"
      ],
      "metadata": {
        "id": "_PMXH8r3Z5Nc"
      },
      "execution_count": 15,
      "outputs": []
    },
    {
      "cell_type": "markdown",
      "source": [
        "Окончательный вывод нашей сети будет иметь вид [i, j, k], соответствующий трем классам, где i, j, k — действительные числа в диапазоне [0,1]. Чем выше значение, тем выше шансы, что это правильный класс. Наша задача — установить максимальное значение равным 1, а остальные — равным 0, где 1 обозначает прогнозируемый класс."
      ],
      "metadata": {
        "id": "phbnfgF2bYDR"
      }
    },
    {
      "cell_type": "code",
      "source": [
        "def Predict(item, weights):\n",
        "    layers = len(weights)\n",
        "    item = np.append(1, item)\n",
        "    \n",
        "    # Forward prop.\n",
        "    activations = ForwardPropagation(item, weights, layers)\n",
        "    \n",
        "    Foutput = activations[-1].A1\n",
        "    index = FindMaxActivation(Foutput)\n",
        "\n",
        "    y = [0 for j in range(len(Foutput))]\n",
        "    y[index] = 1 \n",
        "\n",
        "    return y \n",
        "\n",
        "\n",
        "def FindMaxActivation(output):\n",
        "    m, index = output[0], 0\n",
        "    for i in range(1, len(output)):\n",
        "        if(output[i] > m):\n",
        "            m, index = output[i], i\n",
        "    \n",
        "    return index"
      ],
      "metadata": {
        "id": "-07dBYIqZ5PQ"
      },
      "execution_count": 16,
      "outputs": []
    },
    {
      "cell_type": "markdown",
      "source": [
        "Наконец, мы оцениваем предсказания нашей нейронной сети, беря предсказанный класс и сравнивая его с фактическим классом, чтобы получить точность в процентах.\n",
        "\n",
        "Доступны многие типы метрик оценки, но в рамках этой статьи мы будем использовать простую процентную меру."
      ],
      "metadata": {
        "id": "D9TpB-wcbdYB"
      }
    },
    {
      "cell_type": "code",
      "source": [
        "def Accuracy(X, Y, weights):\n",
        "    correct = 0\n",
        "\n",
        "    for i in range(len(X)):\n",
        "        x, y = X[i], list(Y[i])\n",
        "        guess = Predict(x, weights)\n",
        "\n",
        "        if(y == guess):\n",
        "            # Right prediction\n",
        "            correct += 1\n",
        "\n",
        "    return correct / len(X)"
      ],
      "metadata": {
        "id": "iMQ1I05_bcuq"
      },
      "execution_count": 17,
      "outputs": []
    },
    {
      "cell_type": "markdown",
      "source": [
        "Наша нейронная сеть готова! Давайте запустим его и проверим результаты.\n",
        "\n"
      ],
      "metadata": {
        "id": "reDdo1dYbmmf"
      }
    },
    {
      "cell_type": "code",
      "source": [
        "f = len(X[0]) # no. of features\n",
        "o = len(Y[0]) # no. of classes\n",
        "\n",
        "layers = [f, 5, 10, o] # no. of nodes \n",
        "L, E = 0.15, 100\n",
        "\n",
        "weights = NeuralNetwork(X_train, Y_train, X_val, Y_val, epochs=E, nodes=layers, lr=L);\n"
      ],
      "metadata": {
        "colab": {
          "base_uri": "https://localhost:8080/"
        },
        "id": "Foj2FXi1bcw8",
        "outputId": "04b8a501-7914-413d-c337-ca8860ee53cb"
      },
      "execution_count": 18,
      "outputs": [
        {
          "output_type": "stream",
          "name": "stdout",
          "text": [
            "Epoch 20\n",
            "Training Accuracy:0.6403508771929824\n",
            "Validation Accuracy:0.5384615384615384\n",
            "Epoch 40\n",
            "Training Accuracy:0.8245614035087719\n",
            "Validation Accuracy:0.8461538461538461\n",
            "Epoch 60\n",
            "Training Accuracy:0.7982456140350878\n",
            "Validation Accuracy:0.7692307692307693\n",
            "Epoch 80\n",
            "Training Accuracy:0.8157894736842105\n",
            "Validation Accuracy:0.8461538461538461\n",
            "Epoch 100\n",
            "Training Accuracy:0.8771929824561403\n",
            "Validation Accuracy:0.9230769230769231\n"
          ]
        }
      ]
    },
    {
      "cell_type": "code",
      "source": [
        "print(\"Testing Accuracy: {}\".format(Accuracy(X_train, Y_train, weights)))"
      ],
      "metadata": {
        "colab": {
          "base_uri": "https://localhost:8080/"
        },
        "id": "LIRrobaibcza",
        "outputId": "93023016-bd63-4900-8e66-0f12ea8cebf3"
      },
      "execution_count": 19,
      "outputs": [
        {
          "output_type": "stream",
          "name": "stdout",
          "text": [
            "Testing Accuracy: 0.8771929824561403\n"
          ]
        }
      ]
    },
    {
      "cell_type": "code",
      "source": [
        "print(\"Testing Accuracy: {}\".format(Accuracy(X_val, Y_val, weights)))"
      ],
      "metadata": {
        "colab": {
          "base_uri": "https://localhost:8080/"
        },
        "id": "GNbsB7Gebc1x",
        "outputId": "272a4d05-e3f2-4cc9-f755-1f12357a04ac"
      },
      "execution_count": 20,
      "outputs": [
        {
          "output_type": "stream",
          "name": "stdout",
          "text": [
            "Testing Accuracy: 0.9230769230769231\n"
          ]
        }
      ]
    },
    {
      "cell_type": "code",
      "source": [
        "print(\"Testing Accuracy: {}\".format(Accuracy(X_test, Y_test, weights)))"
      ],
      "metadata": {
        "colab": {
          "base_uri": "https://localhost:8080/"
        },
        "id": "zjEFr3v7bc4W",
        "outputId": "545c4166-4f26-44c6-ab19-464d65d1605b"
      },
      "execution_count": 21,
      "outputs": [
        {
          "output_type": "stream",
          "name": "stdout",
          "text": [
            "Testing Accuracy: 0.9130434782608695\n"
          ]
        }
      ]
    },
    {
      "cell_type": "code",
      "source": [
        "# Importing libraries\n",
        "from sklearn.datasets import make_classification\n",
        "import matplotlib.pyplot as plt\n",
        "\n",
        "# Plotting the dataset\n",
        "plt.figure(figsize=(7.50, 3.50))\n",
        "plt.subplots_adjust(bottom=0.05, top=0.9, left=0.05, right=0.95)\n",
        "plt.subplot(111)\n",
        "plt.title(\"Classification dataset with two informative feature and one cluster per class\", fontsize=\"12\")\n",
        "plt.scatter(X_test[:, 2], X_test[:, 3], marker=\"o\", c=Y_test, s=40, edgecolor=\"k\")\n",
        "plt.xlabel(\"petal length \")\n",
        "plt.ylabel(\"petal width\")\n",
        "plt.show()\n",
        "\n",
        "# X_test[:, 2] petal length like x\n",
        "# X_test[:, 3] petal width like y"
      ],
      "metadata": {
        "colab": {
          "base_uri": "https://localhost:8080/",
          "height": 292
        },
        "id": "bmzzA2XWbc6l",
        "outputId": "eb264d3a-69a2-427c-d37b-40251463eb51"
      },
      "execution_count": 29,
      "outputs": [
        {
          "output_type": "display_data",
          "data": {
            "text/plain": [
              "<Figure size 540x252 with 1 Axes>"
            ],
            "image/png": "[encoded data removed]"
          },
          "metadata": {
            "needs_background": "light"
          }
        }
      ]
    }
  ]
}